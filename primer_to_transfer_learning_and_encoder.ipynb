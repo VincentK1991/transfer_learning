{
  "nbformat": 4,
  "nbformat_minor": 0,
  "metadata": {
    "colab": {
      "name": "primer to transfer learning and encoder.ipynb",
      "provenance": [],
      "collapsed_sections": [],
      "authorship_tag": "ABX9TyNooJw/2iGARAV7ym9NqMCy",
      "include_colab_link": true
    },
    "kernelspec": {
      "name": "python3",
      "display_name": "Python 3"
    },
    "accelerator": "GPU"
  },
  "cells": [
    {
      "cell_type": "markdown",
      "metadata": {
        "id": "view-in-github",
        "colab_type": "text"
      },
      "source": [
        "<a href=\"https://colab.research.google.com/github/VincentK1991/transfer_learning/blob/master/primer_to_transfer_learning_and_encoder.ipynb\" target=\"_parent\"><img src=\"https://colab.research.google.com/assets/colab-badge.svg\" alt=\"Open In Colab\"/></a>"
      ]
    },
    {
      "cell_type": "markdown",
      "metadata": {
        "id": "3pg-xELQ8xjX",
        "colab_type": "text"
      },
      "source": [
        "# 1. Introduction\n",
        "\n",
        "This notebook gives an overview of how to make use of pre-trained model for the purpose of transfer learning. Specifically, we will take a look at how to use a resnet model pre-trained on ImageNet dataset as an image encoder. This image encoder will be used to encode a new set of images for subsequent image classification entirely different from the ImageNet classes.\n",
        "\n",
        "Let's deep dive into it\n",
        "\n",
        "\n",
        "\n",
        "\n"
      ]
    },
    {
      "cell_type": "markdown",
      "metadata": {
        "id": "SDz9CMfpbp3R",
        "colab_type": "text"
      },
      "source": [
        "## A. resnet as an encoder\n",
        "\n",
        "Typically resnet takes in input of 224x224x3 pixel size, referring to width, height, and color channel of the image. This is the input layer. And the input pass through the resnet comes off as 1000 dimensional vector in the output layer. After softmax, this 1000 dimensional vector represent the class probability distribution of imagenet. But what we are interested in is the internal (hidden) layer (h). In the resnet the last hidden layer before fully connected layer has 2048 dimensions.\n",
        "\n",
        "![alt text](https://upload.wikimedia.org/wikipedia/commons/3/37/Autoencoder_schema.png)\n",
        "[image from wikipedia](https://en.wikipedia.org/wiki/Autoencoder)\n",
        "\n",
        "We can describe this process as the resnet maps the the input of (224x224x3 or 150528 dimensions) into a hidden representation of 2048 dimensions. Then the last fully connected layer performs a job of mapping the 2048 dimensions to 1000 dimensions. This is akin to decoding the hidden representation which is abstract to 1000 semantic (human-readable) classes.\n",
        "\n",
        "## B. pre-trained model as a dimensionality reduction tool\n",
        "\n",
        "As said earlier, we start off with 150528 dimensional data. That is a lot of details in the data. So let's say we want to do fine image classification, meaning classes are similar overall but differs in small details. We have multiple classes, but we have quite a small dataset.\n",
        "\n",
        "This is potentially dangerous because we can easily overfit a model. We can either get more data, which often is hard to obtain. Or we can do dimensionality reduction. \n",
        "\n",
        "One thing that comes to mind when we think about dimensionality reduction is principle component analysis (PCA). We can try that but there are a few things to say. First is that PCA is an unsupervised tool. And in general, we should be able to do better if we can find a way to make it a supervised learning task. Second, PCA is a linear method. And it is possible that a non-linear method can capture the high-dimensional manifold better than linear ones. And one way to do non-linear dimensionality reduction is to use convolutional neural net (CNN). This is because the multi-layer parts of CNN provides non-linearity we need.\n",
        "\n",
        "Now to restate, the goal is to denoise the data, while maintain the useful structure in the data. Then we can do classification from the dimension-reduced data. This is where the ImageNet-trained model comes in. ImageNet has 1M real-world images. So, after training the CNN model with this dataset, presumably the model learns the common structure in the \"real-world\" images. These structures are perhaps geometric shapes, contours, orientations, color compositions, or common motifs of the natural objects. So this is the essence of how transfer learning works. The model maps these structures into hidden representation that contain the information which can then be later used for classifications or other purposes.\n",
        "\n",
        "![alt text](https://www.researchgate.net/profile/Yuzhuo_Ren/publication/314646236/figure/fig7/AS:668983594336276@1536509526997/Examples-in-the-ImageNet-dataset.png)\n",
        "\n",
        "Now, the idea is that we can take advantage of this pre-trained model by using it to encode our data to the hidden representation. Hopefully the pre-trained will do a pretty good job because it has already be trained quite exhaustively with a really large dataset.\n",
        "\n",
        "## C. resnet for transfer learning\n",
        "\n",
        "what's most useful about the batchmark dataset like ImageNet is that it provides a broad general knowledge about computer vision learning. We can take the CNN trained on this broad task, and adapt it to other close visually-specific task. And it'll do pretty well. We will see this clearly in the Pytorch codes below. What will happen is that we will\n",
        "\n",
        "![alt text](https://paperswithcode.com/media/thumbnails/task/task-0000000118-7e49033f_1eFA0SR.jpg)\n",
        "[image credit to Subodh Malgonde](https://medium.com/@subodh.malgonde/transfer-learning-using-tensorflow-52a4f6bcde3e)\n",
        "\n",
        "- get a pre-trained model\n",
        "\n",
        "- swap in a neural layer that will learn a specific task to the model (the new layer shown in purple)\n",
        "\n",
        "- and train just this swapped in layer on our new task. This is done by telling the model to not do gradient back-propagation to those layers."
      ]
    },
    {
      "cell_type": "markdown",
      "metadata": {
        "id": "87eA1URu9Bhd",
        "colab_type": "text"
      },
      "source": [
        "# 2. Packages and dataset."
      ]
    },
    {
      "cell_type": "markdown",
      "metadata": {
        "id": "cFWgg-P-cMCd",
        "colab_type": "text"
      },
      "source": [
        "## Packages\n",
        "\n",
        "We will use pytorch for most of this."
      ]
    },
    {
      "cell_type": "code",
      "metadata": {
        "id": "I0I0Obl39HAE",
        "colab_type": "code",
        "colab": {}
      },
      "source": [
        "import random\n",
        "from PIL import Image\n",
        "import torch\n",
        "import torch.nn as nn\n",
        "import torch.optim as optim\n",
        "import torchvision.transforms as transforms\n",
        "import numpy as np\n",
        "import pandas as pd\n",
        "import matplotlib.pyplot as plt\n",
        "import seaborn as sns\n",
        "import torchvision\n",
        "import torch.nn.functional as F\n",
        "from torch.autograd import Variable\n",
        "import requests\n",
        "\n",
        "from sklearn.model_selection import train_test_split\n",
        "from torch.utils.data import TensorDataset, DataLoader\n",
        "from torchsummary import summary"
      ],
      "execution_count": 0,
      "outputs": []
    },
    {
      "cell_type": "code",
      "metadata": {
        "id": "vSx0hrt-b08M",
        "colab_type": "code",
        "colab": {
          "base_uri": "https://localhost:8080/",
          "height": 67
        },
        "outputId": "06a8ea99-2b32-4c83-d799-f5e4cbc2e9de"
      },
      "source": [
        "if torch.cuda.is_available():    \n",
        "\n",
        "    # Tell PyTorch to use the GPU.    \n",
        "    device = torch.device(\"cuda\")\n",
        "    torch.backends.cudnn.benchmark = True\n",
        "    torch.backends.cudnn.enabled = True\n",
        "    print('torch backend cudnn version = ', torch.backends.cudnn.version())\n",
        "    print('There are %d GPU(s) available.' % torch.cuda.device_count())\n",
        "\n",
        "    print('We will use the GPU:', torch.cuda.get_device_name(0)) #hopefully we get Tesla P100 \n",
        "\n",
        "# If not...\n",
        "else:\n",
        "    print('No GPU available, using the CPU instead.')\n",
        "    device = torch.device(\"cpu\")"
      ],
      "execution_count": 10,
      "outputs": [
        {
          "output_type": "stream",
          "text": [
            "torch backend cudnn version =  7603\n",
            "There are 1 GPU(s) available.\n",
            "We will use the GPU: Tesla P100-PCIE-16GB\n"
          ],
          "name": "stdout"
        }
      ]
    },
    {
      "cell_type": "code",
      "metadata": {
        "id": "yIh5Dh37uUS5",
        "colab_type": "code",
        "colab": {
          "base_uri": "https://localhost:8080/",
          "height": 33
        },
        "outputId": "cc9545a6-aa92-418b-ecc0-9b7a59ecd7cb"
      },
      "source": [
        "!pwd"
      ],
      "execution_count": 11,
      "outputs": [
        {
          "output_type": "stream",
          "text": [
            "/content/drive/My Drive/Colab Notebooks/HW2\n"
          ],
          "name": "stdout"
        }
      ]
    },
    {
      "cell_type": "code",
      "metadata": {
        "id": "nsrcJrRlb9d9",
        "colab_type": "code",
        "colab": {
          "base_uri": "https://localhost:8080/",
          "height": 53
        },
        "outputId": "c1ef45d5-210c-4f65-8817-dc74a3c2a33e"
      },
      "source": [
        "from google.colab import drive\n",
        "drive.mount('/content/drive')"
      ],
      "execution_count": 12,
      "outputs": [
        {
          "output_type": "stream",
          "text": [
            "Drive already mounted at /content/drive; to attempt to forcibly remount, call drive.mount(\"/content/drive\", force_remount=True).\n"
          ],
          "name": "stdout"
        }
      ]
    },
    {
      "cell_type": "code",
      "metadata": {
        "id": "hyQJ05-scAn1",
        "colab_type": "code",
        "colab": {
          "base_uri": "https://localhost:8080/",
          "height": 33
        },
        "outputId": "93c826c7-5864-4667-e7bd-a3ca3ec81992"
      },
      "source": [
        "%cd '/content/drive/My Drive/Colab Notebooks/HW2'"
      ],
      "execution_count": 5,
      "outputs": [
        {
          "output_type": "stream",
          "text": [
            "/content/drive/My Drive/Colab Notebooks/HW2\n"
          ],
          "name": "stdout"
        }
      ]
    },
    {
      "cell_type": "markdown",
      "metadata": {
        "id": "BUPHb3hacO02",
        "colab_type": "text"
      },
      "source": [
        "## dataset\n",
        "\n",
        "The dataset we will use is the Oxford-IIIT Pet dataset. [here](http://www.robots.ox.ac.uk/~vgg/data/pets/) is the link to the dataset. The dataset has about 7.3k images and contains 37 categories of cat and dog breeds. The dataset comes in 2 folders: annotations containing the list of images, and images folder which contains the jpg files. \n",
        "\n",
        "Each breeds are represented by about 200 images, of various view angles, lighting, etc. This is not a lot of data. So this dataset exemplifies the problem I said earlier that we are dealing with rich data that can be overfit easily, the classification is fine-grained, and not a lot of data to begin with."
      ]
    },
    {
      "cell_type": "code",
      "metadata": {
        "id": "r-0y8AlGcK6P",
        "colab_type": "code",
        "colab": {}
      },
      "source": [
        "# load the image names and classes\n",
        "list_images = pd.read_csv('annotations/list.txt',sep = ' ', skiprows = 6,header=None,names= ['image','class','species','breed'])\n",
        "trainval_images = pd.read_csv('annotations/trainval.txt',sep = ' ',header=None,names= ['image','class','species','breed'])"
      ],
      "execution_count": 0,
      "outputs": []
    },
    {
      "cell_type": "code",
      "metadata": {
        "id": "EBs9Eq3_Edrr",
        "colab_type": "code",
        "colab": {
          "base_uri": "https://localhost:8080/",
          "height": 217
        },
        "outputId": "0fbaf5a9-85d7-4041-f4cc-bc96875b009c"
      },
      "source": [
        "if min(trainval_images['class']) == 1:\n",
        "  trainval_images['class'] = trainval_images['class'] - 1\n",
        "trainval_images['class']"
      ],
      "execution_count": 8,
      "outputs": [
        {
          "output_type": "execute_result",
          "data": {
            "text/plain": [
              "0        0\n",
              "1        0\n",
              "2        0\n",
              "3        0\n",
              "4        0\n",
              "        ..\n",
              "3675    36\n",
              "3676    36\n",
              "3677    36\n",
              "3678    36\n",
              "3679    36\n",
              "Name: class, Length: 3680, dtype: int64"
            ]
          },
          "metadata": {
            "tags": []
          },
          "execution_count": 8
        }
      ]
    },
    {
      "cell_type": "code",
      "metadata": {
        "id": "KlxUUAmdhFwj",
        "colab_type": "code",
        "colab": {
          "base_uri": "https://localhost:8080/",
          "height": 241
        },
        "outputId": "9b648e34-3ae9-4fb2-d1d9-50eb7851fbc1"
      },
      "source": [
        "# here is the example of the image data\n",
        "first_image = Image.open('images/'+trainval_images['image'][0]+ '.jpg').resize((224,224))\n",
        "first_image"
      ],
      "execution_count": 11,
      "outputs": [
        {
          "output_type": "execute_result",
          "data": {
            "image/png": "[encoded data removed]",
            "text/plain": [
              "<PIL.Image.Image image mode=RGB size=224x224 at 0x7F43756D19E8>"
            ]
          },
          "metadata": {
            "tags": []
          },
          "execution_count": 11
        }
      ]
    },
    {
      "cell_type": "markdown",
      "metadata": {
        "id": "kaxFbzGGiCff",
        "colab_type": "text"
      },
      "source": [
        "## Pre-processing the data"
      ]
    },
    {
      "cell_type": "markdown",
      "metadata": {
        "id": "ImkxXaBrAO1B",
        "colab_type": "text"
      },
      "source": [
        "### save model"
      ]
    },
    {
      "cell_type": "code",
      "metadata": {
        "id": "wyKjOaDaiSU0",
        "colab_type": "code",
        "colab": {}
      },
      "source": [
        "preprocess = transforms.Compose([transforms.ToTensor(),\n",
        "            transforms.Normalize(mean=[0.485, 0.456, 0.406], \n",
        "              std=[0.229, 0.224, 0.225]),])"
      ],
      "execution_count": 0,
      "outputs": []
    },
    {
      "cell_type": "code",
      "metadata": {
        "id": "fcJSGpWIuzJI",
        "colab_type": "code",
        "colab": {}
      },
      "source": [
        "num_image = 3680"
      ],
      "execution_count": 0,
      "outputs": []
    },
    {
      "cell_type": "code",
      "metadata": {
        "id": "AyY1f7GchRzU",
        "colab_type": "code",
        "colab": {}
      },
      "source": [
        "tensor_zeros = torch.zeros((num_image,3,224,224))"
      ],
      "execution_count": 0,
      "outputs": []
    },
    {
      "cell_type": "code",
      "metadata": {
        "id": "YllWt7EziBy5",
        "colab_type": "code",
        "colab": {}
      },
      "source": [
        "# this may takes a while\n",
        "for i in range(num_image):\n",
        "  input_image = Image.open('images/'+trainval_images['image'][i]+ '.jpg').resize((224,224))\n",
        "  processed_image = preprocess(input_image.convert('RGB'))\n",
        "  tensor_zeros[i] = processed_image"
      ],
      "execution_count": 0,
      "outputs": []
    },
    {
      "cell_type": "code",
      "metadata": {
        "id": "KKXulRvZ1Ze5",
        "colab_type": "code",
        "colab": {}
      },
      "source": [
        "# since this step takes so long,\n",
        "# we convert to numpy save as numpy in case we want it later\n",
        "array_image = tensor_zeros.numpy()"
      ],
      "execution_count": 0,
      "outputs": []
    },
    {
      "cell_type": "code",
      "metadata": {
        "id": "xvEuzn_w2JwP",
        "colab_type": "code",
        "colab": {}
      },
      "source": [
        "# this file is really quite big, so if don't need it, don't have to do this step\n",
        "np.save('oxford_pet_numpy_array_Apr09',array_image)"
      ],
      "execution_count": 0,
      "outputs": []
    },
    {
      "cell_type": "code",
      "metadata": {
        "id": "LDV6M3Uz_gPa",
        "colab_type": "code",
        "colab": {}
      },
      "source": [
        "del array_image #this numpy is pretty big, we will delete after we don't need it"
      ],
      "execution_count": 0,
      "outputs": []
    },
    {
      "cell_type": "markdown",
      "metadata": {
        "id": "S367SqFKCOdU",
        "colab_type": "text"
      },
      "source": [
        "### re-load the model"
      ]
    },
    {
      "cell_type": "code",
      "metadata": {
        "id": "_0zqmOir_6AP",
        "colab_type": "code",
        "colab": {}
      },
      "source": [
        "array_image = np.load('oxford_pet_numpy_array_Apr09.npy')\n",
        "trainval_images = pd.read_csv('annotations/trainval.txt',sep = ' ',header=None,names= ['image','class','species','breed'])\n",
        "if min(trainval_images['class']) == 1:\n",
        "  trainval_images['class'] = trainval_images['class'] - 1"
      ],
      "execution_count": 0,
      "outputs": []
    },
    {
      "cell_type": "code",
      "metadata": {
        "id": "Biy2OOg6Cl6j",
        "colab_type": "code",
        "colab": {}
      },
      "source": [
        "tensor_images = torch.tensor(array_image)"
      ],
      "execution_count": 0,
      "outputs": []
    },
    {
      "cell_type": "code",
      "metadata": {
        "id": "jJ81e2TbDC6U",
        "colab_type": "code",
        "colab": {}
      },
      "source": [
        "del array_image"
      ],
      "execution_count": 0,
      "outputs": []
    },
    {
      "cell_type": "code",
      "metadata": {
        "id": "IkmmAsIXCshF",
        "colab_type": "code",
        "colab": {
          "base_uri": "https://localhost:8080/",
          "height": 33
        },
        "outputId": "007f908a-cf44-4191-e078-55302424bbe7"
      },
      "source": [
        "tensor_images.shape"
      ],
      "execution_count": 16,
      "outputs": [
        {
          "output_type": "execute_result",
          "data": {
            "text/plain": [
              "torch.Size([3680, 3, 224, 224])"
            ]
          },
          "metadata": {
            "tags": []
          },
          "execution_count": 16
        }
      ]
    },
    {
      "cell_type": "code",
      "metadata": {
        "id": "KiuQluuMkXEa",
        "colab_type": "code",
        "colab": {}
      },
      "source": [
        "X_train, X_val, y_train, y_val = train_test_split(tensor_images, trainval_images['class'], \n",
        "                                  test_size=0.2, random_state=42)"
      ],
      "execution_count": 0,
      "outputs": []
    },
    {
      "cell_type": "code",
      "metadata": {
        "id": "QJrgTr38krFM",
        "colab_type": "code",
        "colab": {}
      },
      "source": [
        "batch_size = 32\n",
        "trainset = TensorDataset(X_train,torch.Tensor(y_train.values))\n",
        "train_loader = DataLoader(trainset, batch_size=batch_size, shuffle=True, drop_last=False)"
      ],
      "execution_count": 0,
      "outputs": []
    },
    {
      "cell_type": "code",
      "metadata": {
        "id": "4cHNgS-YlAe6",
        "colab_type": "code",
        "colab": {}
      },
      "source": [
        "valset = TensorDataset(X_val,torch.Tensor(y_val.values))\n",
        "val_loader = DataLoader(valset, batch_size=batch_size, shuffle=True, drop_last=False)"
      ],
      "execution_count": 0,
      "outputs": []
    },
    {
      "cell_type": "markdown",
      "metadata": {
        "id": "U3ifo1FL9HNH",
        "colab_type": "text"
      },
      "source": [
        "# 3.  pre-trained model as encoder\n",
        "\n",
        "We will load the model and swap in the final classification layer that previously maps 2048 layers to 1000 classes, will now maps to 37 classes.\n",
        "\n",
        "Note that we will freeze the weights in all upstream layers. So the trainable parameters are just the weights and the biases of the newly swapped in layer only."
      ]
    },
    {
      "cell_type": "code",
      "metadata": {
        "id": "q4hElIftcIIh",
        "colab_type": "code",
        "colab": {
          "base_uri": "https://localhost:8080/",
          "height": 33
        },
        "outputId": "4218ab89-7dc0-4cb0-c596-0eb05c17c5fe"
      },
      "source": [
        "resnet50 = torchvision.models.resnet50(pretrained=True)"
      ],
      "execution_count": 20,
      "outputs": [
        {
          "output_type": "stream",
          "text": [
            "\n"
          ],
          "name": "stdout"
        }
      ]
    },
    {
      "cell_type": "code",
      "metadata": {
        "id": "KIY65-Mflw8X",
        "colab_type": "code",
        "colab": {
          "base_uri": "https://localhost:8080/",
          "height": 1000
        },
        "outputId": "a0904f09-d253-45d3-c301-3e7b8d4f6b54"
      },
      "source": [
        "summary(resnet50,(3,224,224),64,'cpu')"
      ],
      "execution_count": 21,
      "outputs": [
        {
          "output_type": "stream",
          "text": [
            "----------------------------------------------------------------\n",
            "        Layer (type)               Output Shape         Param #\n",
            "================================================================\n",
            "            Conv2d-1         [64, 64, 112, 112]           9,408\n",
            "       BatchNorm2d-2         [64, 64, 112, 112]             128\n",
            "              ReLU-3         [64, 64, 112, 112]               0\n",
            "         MaxPool2d-4           [64, 64, 56, 56]               0\n",
            "            Conv2d-5           [64, 64, 56, 56]           4,096\n",
            "       BatchNorm2d-6           [64, 64, 56, 56]             128\n",
            "              ReLU-7           [64, 64, 56, 56]               0\n",
            "            Conv2d-8           [64, 64, 56, 56]          36,864\n",
            "       BatchNorm2d-9           [64, 64, 56, 56]             128\n",
            "             ReLU-10           [64, 64, 56, 56]               0\n",
            "           Conv2d-11          [64, 256, 56, 56]          16,384\n",
            "      BatchNorm2d-12          [64, 256, 56, 56]             512\n",
            "           Conv2d-13          [64, 256, 56, 56]          16,384\n",
            "      BatchNorm2d-14          [64, 256, 56, 56]             512\n",
            "             ReLU-15          [64, 256, 56, 56]               0\n",
            "       Bottleneck-16          [64, 256, 56, 56]               0\n",
            "           Conv2d-17           [64, 64, 56, 56]          16,384\n",
            "      BatchNorm2d-18           [64, 64, 56, 56]             128\n",
            "             ReLU-19           [64, 64, 56, 56]               0\n",
            "           Conv2d-20           [64, 64, 56, 56]          36,864\n",
            "      BatchNorm2d-21           [64, 64, 56, 56]             128\n",
            "             ReLU-22           [64, 64, 56, 56]               0\n",
            "           Conv2d-23          [64, 256, 56, 56]          16,384\n",
            "      BatchNorm2d-24          [64, 256, 56, 56]             512\n",
            "             ReLU-25          [64, 256, 56, 56]               0\n",
            "       Bottleneck-26          [64, 256, 56, 56]               0\n",
            "           Conv2d-27           [64, 64, 56, 56]          16,384\n",
            "      BatchNorm2d-28           [64, 64, 56, 56]             128\n",
            "             ReLU-29           [64, 64, 56, 56]               0\n",
            "           Conv2d-30           [64, 64, 56, 56]          36,864\n",
            "      BatchNorm2d-31           [64, 64, 56, 56]             128\n",
            "             ReLU-32           [64, 64, 56, 56]               0\n",
            "           Conv2d-33          [64, 256, 56, 56]          16,384\n",
            "      BatchNorm2d-34          [64, 256, 56, 56]             512\n",
            "             ReLU-35          [64, 256, 56, 56]               0\n",
            "       Bottleneck-36          [64, 256, 56, 56]               0\n",
            "           Conv2d-37          [64, 128, 56, 56]          32,768\n",
            "      BatchNorm2d-38          [64, 128, 56, 56]             256\n",
            "             ReLU-39          [64, 128, 56, 56]               0\n",
            "           Conv2d-40          [64, 128, 28, 28]         147,456\n",
            "      BatchNorm2d-41          [64, 128, 28, 28]             256\n",
            "             ReLU-42          [64, 128, 28, 28]               0\n",
            "           Conv2d-43          [64, 512, 28, 28]          65,536\n",
            "      BatchNorm2d-44          [64, 512, 28, 28]           1,024\n",
            "           Conv2d-45          [64, 512, 28, 28]         131,072\n",
            "      BatchNorm2d-46          [64, 512, 28, 28]           1,024\n",
            "             ReLU-47          [64, 512, 28, 28]               0\n",
            "       Bottleneck-48          [64, 512, 28, 28]               0\n",
            "           Conv2d-49          [64, 128, 28, 28]          65,536\n",
            "      BatchNorm2d-50          [64, 128, 28, 28]             256\n",
            "             ReLU-51          [64, 128, 28, 28]               0\n",
            "           Conv2d-52          [64, 128, 28, 28]         147,456\n",
            "      BatchNorm2d-53          [64, 128, 28, 28]             256\n",
            "             ReLU-54          [64, 128, 28, 28]               0\n",
            "           Conv2d-55          [64, 512, 28, 28]          65,536\n",
            "      BatchNorm2d-56          [64, 512, 28, 28]           1,024\n",
            "             ReLU-57          [64, 512, 28, 28]               0\n",
            "       Bottleneck-58          [64, 512, 28, 28]               0\n",
            "           Conv2d-59          [64, 128, 28, 28]          65,536\n",
            "      BatchNorm2d-60          [64, 128, 28, 28]             256\n",
            "             ReLU-61          [64, 128, 28, 28]               0\n",
            "           Conv2d-62          [64, 128, 28, 28]         147,456\n",
            "      BatchNorm2d-63          [64, 128, 28, 28]             256\n",
            "             ReLU-64          [64, 128, 28, 28]               0\n",
            "           Conv2d-65          [64, 512, 28, 28]          65,536\n",
            "      BatchNorm2d-66          [64, 512, 28, 28]           1,024\n",
            "             ReLU-67          [64, 512, 28, 28]               0\n",
            "       Bottleneck-68          [64, 512, 28, 28]               0\n",
            "           Conv2d-69          [64, 128, 28, 28]          65,536\n",
            "      BatchNorm2d-70          [64, 128, 28, 28]             256\n",
            "             ReLU-71          [64, 128, 28, 28]               0\n",
            "           Conv2d-72          [64, 128, 28, 28]         147,456\n",
            "      BatchNorm2d-73          [64, 128, 28, 28]             256\n",
            "             ReLU-74          [64, 128, 28, 28]               0\n",
            "           Conv2d-75          [64, 512, 28, 28]          65,536\n",
            "      BatchNorm2d-76          [64, 512, 28, 28]           1,024\n",
            "             ReLU-77          [64, 512, 28, 28]               0\n",
            "       Bottleneck-78          [64, 512, 28, 28]               0\n",
            "           Conv2d-79          [64, 256, 28, 28]         131,072\n",
            "      BatchNorm2d-80          [64, 256, 28, 28]             512\n",
            "             ReLU-81          [64, 256, 28, 28]               0\n",
            "           Conv2d-82          [64, 256, 14, 14]         589,824\n",
            "      BatchNorm2d-83          [64, 256, 14, 14]             512\n",
            "             ReLU-84          [64, 256, 14, 14]               0\n",
            "           Conv2d-85         [64, 1024, 14, 14]         262,144\n",
            "      BatchNorm2d-86         [64, 1024, 14, 14]           2,048\n",
            "           Conv2d-87         [64, 1024, 14, 14]         524,288\n",
            "      BatchNorm2d-88         [64, 1024, 14, 14]           2,048\n",
            "             ReLU-89         [64, 1024, 14, 14]               0\n",
            "       Bottleneck-90         [64, 1024, 14, 14]               0\n",
            "           Conv2d-91          [64, 256, 14, 14]         262,144\n",
            "      BatchNorm2d-92          [64, 256, 14, 14]             512\n",
            "             ReLU-93          [64, 256, 14, 14]               0\n",
            "           Conv2d-94          [64, 256, 14, 14]         589,824\n",
            "      BatchNorm2d-95          [64, 256, 14, 14]             512\n",
            "             ReLU-96          [64, 256, 14, 14]               0\n",
            "           Conv2d-97         [64, 1024, 14, 14]         262,144\n",
            "      BatchNorm2d-98         [64, 1024, 14, 14]           2,048\n",
            "             ReLU-99         [64, 1024, 14, 14]               0\n",
            "      Bottleneck-100         [64, 1024, 14, 14]               0\n",
            "          Conv2d-101          [64, 256, 14, 14]         262,144\n",
            "     BatchNorm2d-102          [64, 256, 14, 14]             512\n",
            "            ReLU-103          [64, 256, 14, 14]               0\n",
            "          Conv2d-104          [64, 256, 14, 14]         589,824\n",
            "     BatchNorm2d-105          [64, 256, 14, 14]             512\n",
            "            ReLU-106          [64, 256, 14, 14]               0\n",
            "          Conv2d-107         [64, 1024, 14, 14]         262,144\n",
            "     BatchNorm2d-108         [64, 1024, 14, 14]           2,048\n",
            "            ReLU-109         [64, 1024, 14, 14]               0\n",
            "      Bottleneck-110         [64, 1024, 14, 14]               0\n",
            "          Conv2d-111          [64, 256, 14, 14]         262,144\n",
            "     BatchNorm2d-112          [64, 256, 14, 14]             512\n",
            "            ReLU-113          [64, 256, 14, 14]               0\n",
            "          Conv2d-114          [64, 256, 14, 14]         589,824\n",
            "     BatchNorm2d-115          [64, 256, 14, 14]             512\n",
            "            ReLU-116          [64, 256, 14, 14]               0\n",
            "          Conv2d-117         [64, 1024, 14, 14]         262,144\n",
            "     BatchNorm2d-118         [64, 1024, 14, 14]           2,048\n",
            "            ReLU-119         [64, 1024, 14, 14]               0\n",
            "      Bottleneck-120         [64, 1024, 14, 14]               0\n",
            "          Conv2d-121          [64, 256, 14, 14]         262,144\n",
            "     BatchNorm2d-122          [64, 256, 14, 14]             512\n",
            "            ReLU-123          [64, 256, 14, 14]               0\n",
            "          Conv2d-124          [64, 256, 14, 14]         589,824\n",
            "     BatchNorm2d-125          [64, 256, 14, 14]             512\n",
            "            ReLU-126          [64, 256, 14, 14]               0\n",
            "          Conv2d-127         [64, 1024, 14, 14]         262,144\n",
            "     BatchNorm2d-128         [64, 1024, 14, 14]           2,048\n",
            "            ReLU-129         [64, 1024, 14, 14]               0\n",
            "      Bottleneck-130         [64, 1024, 14, 14]               0\n",
            "          Conv2d-131          [64, 256, 14, 14]         262,144\n",
            "     BatchNorm2d-132          [64, 256, 14, 14]             512\n",
            "            ReLU-133          [64, 256, 14, 14]               0\n",
            "          Conv2d-134          [64, 256, 14, 14]         589,824\n",
            "     BatchNorm2d-135          [64, 256, 14, 14]             512\n",
            "            ReLU-136          [64, 256, 14, 14]               0\n",
            "          Conv2d-137         [64, 1024, 14, 14]         262,144\n",
            "     BatchNorm2d-138         [64, 1024, 14, 14]           2,048\n",
            "            ReLU-139         [64, 1024, 14, 14]               0\n",
            "      Bottleneck-140         [64, 1024, 14, 14]               0\n",
            "          Conv2d-141          [64, 512, 14, 14]         524,288\n",
            "     BatchNorm2d-142          [64, 512, 14, 14]           1,024\n",
            "            ReLU-143          [64, 512, 14, 14]               0\n",
            "          Conv2d-144            [64, 512, 7, 7]       2,359,296\n",
            "     BatchNorm2d-145            [64, 512, 7, 7]           1,024\n",
            "            ReLU-146            [64, 512, 7, 7]               0\n",
            "          Conv2d-147           [64, 2048, 7, 7]       1,048,576\n",
            "     BatchNorm2d-148           [64, 2048, 7, 7]           4,096\n",
            "          Conv2d-149           [64, 2048, 7, 7]       2,097,152\n",
            "     BatchNorm2d-150           [64, 2048, 7, 7]           4,096\n",
            "            ReLU-151           [64, 2048, 7, 7]               0\n",
            "      Bottleneck-152           [64, 2048, 7, 7]               0\n",
            "          Conv2d-153            [64, 512, 7, 7]       1,048,576\n",
            "     BatchNorm2d-154            [64, 512, 7, 7]           1,024\n",
            "            ReLU-155            [64, 512, 7, 7]               0\n",
            "          Conv2d-156            [64, 512, 7, 7]       2,359,296\n",
            "     BatchNorm2d-157            [64, 512, 7, 7]           1,024\n",
            "            ReLU-158            [64, 512, 7, 7]               0\n",
            "          Conv2d-159           [64, 2048, 7, 7]       1,048,576\n",
            "     BatchNorm2d-160           [64, 2048, 7, 7]           4,096\n",
            "            ReLU-161           [64, 2048, 7, 7]               0\n",
            "      Bottleneck-162           [64, 2048, 7, 7]               0\n",
            "          Conv2d-163            [64, 512, 7, 7]       1,048,576\n",
            "     BatchNorm2d-164            [64, 512, 7, 7]           1,024\n",
            "            ReLU-165            [64, 512, 7, 7]               0\n",
            "          Conv2d-166            [64, 512, 7, 7]       2,359,296\n",
            "     BatchNorm2d-167            [64, 512, 7, 7]           1,024\n",
            "            ReLU-168            [64, 512, 7, 7]               0\n",
            "          Conv2d-169           [64, 2048, 7, 7]       1,048,576\n",
            "     BatchNorm2d-170           [64, 2048, 7, 7]           4,096\n",
            "            ReLU-171           [64, 2048, 7, 7]               0\n",
            "      Bottleneck-172           [64, 2048, 7, 7]               0\n",
            "AdaptiveAvgPool2d-173           [64, 2048, 1, 1]               0\n",
            "          Linear-174                 [64, 1000]       2,049,000\n",
            "================================================================\n",
            "Total params: 25,557,032\n",
            "Trainable params: 25,557,032\n",
            "Non-trainable params: 0\n",
            "----------------------------------------------------------------\n",
            "Input size (MB): 36.75\n",
            "Forward/backward pass size (MB): 18339.74\n",
            "Params size (MB): 97.49\n",
            "Estimated Total Size (MB): 18473.98\n",
            "----------------------------------------------------------------\n"
          ],
          "name": "stdout"
        }
      ]
    },
    {
      "cell_type": "code",
      "metadata": {
        "id": "TF9ZbZJ4mvD6",
        "colab_type": "code",
        "colab": {}
      },
      "source": [
        "for param in resnet50.parameters():\n",
        "  param.requires_grad = False\n",
        "resnet50.fc = nn.Linear(2048,37)  \n",
        "# we just swap in the fully connected layer (fc) from (2048, 1000) to (2048,37)"
      ],
      "execution_count": 0,
      "outputs": []
    },
    {
      "cell_type": "code",
      "metadata": {
        "id": "kf3a64D7nsL6",
        "colab_type": "code",
        "colab": {
          "base_uri": "https://localhost:8080/",
          "height": 1000
        },
        "outputId": "3ef2851a-54a8-4d3c-ecd8-fbeb50d392e6"
      },
      "source": [
        "summary(resnet50,(3,224,224),64,'cpu')"
      ],
      "execution_count": 23,
      "outputs": [
        {
          "output_type": "stream",
          "text": [
            "----------------------------------------------------------------\n",
            "        Layer (type)               Output Shape         Param #\n",
            "================================================================\n",
            "            Conv2d-1         [64, 64, 112, 112]           9,408\n",
            "       BatchNorm2d-2         [64, 64, 112, 112]             128\n",
            "              ReLU-3         [64, 64, 112, 112]               0\n",
            "         MaxPool2d-4           [64, 64, 56, 56]               0\n",
            "            Conv2d-5           [64, 64, 56, 56]           4,096\n",
            "       BatchNorm2d-6           [64, 64, 56, 56]             128\n",
            "              ReLU-7           [64, 64, 56, 56]               0\n",
            "            Conv2d-8           [64, 64, 56, 56]          36,864\n",
            "       BatchNorm2d-9           [64, 64, 56, 56]             128\n",
            "             ReLU-10           [64, 64, 56, 56]               0\n",
            "           Conv2d-11          [64, 256, 56, 56]          16,384\n",
            "      BatchNorm2d-12          [64, 256, 56, 56]             512\n",
            "           Conv2d-13          [64, 256, 56, 56]          16,384\n",
            "      BatchNorm2d-14          [64, 256, 56, 56]             512\n",
            "             ReLU-15          [64, 256, 56, 56]               0\n",
            "       Bottleneck-16          [64, 256, 56, 56]               0\n",
            "           Conv2d-17           [64, 64, 56, 56]          16,384\n",
            "      BatchNorm2d-18           [64, 64, 56, 56]             128\n",
            "             ReLU-19           [64, 64, 56, 56]               0\n",
            "           Conv2d-20           [64, 64, 56, 56]          36,864\n",
            "      BatchNorm2d-21           [64, 64, 56, 56]             128\n",
            "             ReLU-22           [64, 64, 56, 56]               0\n",
            "           Conv2d-23          [64, 256, 56, 56]          16,384\n",
            "      BatchNorm2d-24          [64, 256, 56, 56]             512\n",
            "             ReLU-25          [64, 256, 56, 56]               0\n",
            "       Bottleneck-26          [64, 256, 56, 56]               0\n",
            "           Conv2d-27           [64, 64, 56, 56]          16,384\n",
            "      BatchNorm2d-28           [64, 64, 56, 56]             128\n",
            "             ReLU-29           [64, 64, 56, 56]               0\n",
            "           Conv2d-30           [64, 64, 56, 56]          36,864\n",
            "      BatchNorm2d-31           [64, 64, 56, 56]             128\n",
            "             ReLU-32           [64, 64, 56, 56]               0\n",
            "           Conv2d-33          [64, 256, 56, 56]          16,384\n",
            "      BatchNorm2d-34          [64, 256, 56, 56]             512\n",
            "             ReLU-35          [64, 256, 56, 56]               0\n",
            "       Bottleneck-36          [64, 256, 56, 56]               0\n",
            "           Conv2d-37          [64, 128, 56, 56]          32,768\n",
            "      BatchNorm2d-38          [64, 128, 56, 56]             256\n",
            "             ReLU-39          [64, 128, 56, 56]               0\n",
            "           Conv2d-40          [64, 128, 28, 28]         147,456\n",
            "      BatchNorm2d-41          [64, 128, 28, 28]             256\n",
            "             ReLU-42          [64, 128, 28, 28]               0\n",
            "           Conv2d-43          [64, 512, 28, 28]          65,536\n",
            "      BatchNorm2d-44          [64, 512, 28, 28]           1,024\n",
            "           Conv2d-45          [64, 512, 28, 28]         131,072\n",
            "      BatchNorm2d-46          [64, 512, 28, 28]           1,024\n",
            "             ReLU-47          [64, 512, 28, 28]               0\n",
            "       Bottleneck-48          [64, 512, 28, 28]               0\n",
            "           Conv2d-49          [64, 128, 28, 28]          65,536\n",
            "      BatchNorm2d-50          [64, 128, 28, 28]             256\n",
            "             ReLU-51          [64, 128, 28, 28]               0\n",
            "           Conv2d-52          [64, 128, 28, 28]         147,456\n",
            "      BatchNorm2d-53          [64, 128, 28, 28]             256\n",
            "             ReLU-54          [64, 128, 28, 28]               0\n",
            "           Conv2d-55          [64, 512, 28, 28]          65,536\n",
            "      BatchNorm2d-56          [64, 512, 28, 28]           1,024\n",
            "             ReLU-57          [64, 512, 28, 28]               0\n",
            "       Bottleneck-58          [64, 512, 28, 28]               0\n",
            "           Conv2d-59          [64, 128, 28, 28]          65,536\n",
            "      BatchNorm2d-60          [64, 128, 28, 28]             256\n",
            "             ReLU-61          [64, 128, 28, 28]               0\n",
            "           Conv2d-62          [64, 128, 28, 28]         147,456\n",
            "      BatchNorm2d-63          [64, 128, 28, 28]             256\n",
            "             ReLU-64          [64, 128, 28, 28]               0\n",
            "           Conv2d-65          [64, 512, 28, 28]          65,536\n",
            "      BatchNorm2d-66          [64, 512, 28, 28]           1,024\n",
            "             ReLU-67          [64, 512, 28, 28]               0\n",
            "       Bottleneck-68          [64, 512, 28, 28]               0\n",
            "           Conv2d-69          [64, 128, 28, 28]          65,536\n",
            "      BatchNorm2d-70          [64, 128, 28, 28]             256\n",
            "             ReLU-71          [64, 128, 28, 28]               0\n",
            "           Conv2d-72          [64, 128, 28, 28]         147,456\n",
            "      BatchNorm2d-73          [64, 128, 28, 28]             256\n",
            "             ReLU-74          [64, 128, 28, 28]               0\n",
            "           Conv2d-75          [64, 512, 28, 28]          65,536\n",
            "      BatchNorm2d-76          [64, 512, 28, 28]           1,024\n",
            "             ReLU-77          [64, 512, 28, 28]               0\n",
            "       Bottleneck-78          [64, 512, 28, 28]               0\n",
            "           Conv2d-79          [64, 256, 28, 28]         131,072\n",
            "      BatchNorm2d-80          [64, 256, 28, 28]             512\n",
            "             ReLU-81          [64, 256, 28, 28]               0\n",
            "           Conv2d-82          [64, 256, 14, 14]         589,824\n",
            "      BatchNorm2d-83          [64, 256, 14, 14]             512\n",
            "             ReLU-84          [64, 256, 14, 14]               0\n",
            "           Conv2d-85         [64, 1024, 14, 14]         262,144\n",
            "      BatchNorm2d-86         [64, 1024, 14, 14]           2,048\n",
            "           Conv2d-87         [64, 1024, 14, 14]         524,288\n",
            "      BatchNorm2d-88         [64, 1024, 14, 14]           2,048\n",
            "             ReLU-89         [64, 1024, 14, 14]               0\n",
            "       Bottleneck-90         [64, 1024, 14, 14]               0\n",
            "           Conv2d-91          [64, 256, 14, 14]         262,144\n",
            "      BatchNorm2d-92          [64, 256, 14, 14]             512\n",
            "             ReLU-93          [64, 256, 14, 14]               0\n",
            "           Conv2d-94          [64, 256, 14, 14]         589,824\n",
            "      BatchNorm2d-95          [64, 256, 14, 14]             512\n",
            "             ReLU-96          [64, 256, 14, 14]               0\n",
            "           Conv2d-97         [64, 1024, 14, 14]         262,144\n",
            "      BatchNorm2d-98         [64, 1024, 14, 14]           2,048\n",
            "             ReLU-99         [64, 1024, 14, 14]               0\n",
            "      Bottleneck-100         [64, 1024, 14, 14]               0\n",
            "          Conv2d-101          [64, 256, 14, 14]         262,144\n",
            "     BatchNorm2d-102          [64, 256, 14, 14]             512\n",
            "            ReLU-103          [64, 256, 14, 14]               0\n",
            "          Conv2d-104          [64, 256, 14, 14]         589,824\n",
            "     BatchNorm2d-105          [64, 256, 14, 14]             512\n",
            "            ReLU-106          [64, 256, 14, 14]               0\n",
            "          Conv2d-107         [64, 1024, 14, 14]         262,144\n",
            "     BatchNorm2d-108         [64, 1024, 14, 14]           2,048\n",
            "            ReLU-109         [64, 1024, 14, 14]               0\n",
            "      Bottleneck-110         [64, 1024, 14, 14]               0\n",
            "          Conv2d-111          [64, 256, 14, 14]         262,144\n",
            "     BatchNorm2d-112          [64, 256, 14, 14]             512\n",
            "            ReLU-113          [64, 256, 14, 14]               0\n",
            "          Conv2d-114          [64, 256, 14, 14]         589,824\n",
            "     BatchNorm2d-115          [64, 256, 14, 14]             512\n",
            "            ReLU-116          [64, 256, 14, 14]               0\n",
            "          Conv2d-117         [64, 1024, 14, 14]         262,144\n",
            "     BatchNorm2d-118         [64, 1024, 14, 14]           2,048\n",
            "            ReLU-119         [64, 1024, 14, 14]               0\n",
            "      Bottleneck-120         [64, 1024, 14, 14]               0\n",
            "          Conv2d-121          [64, 256, 14, 14]         262,144\n",
            "     BatchNorm2d-122          [64, 256, 14, 14]             512\n",
            "            ReLU-123          [64, 256, 14, 14]               0\n",
            "          Conv2d-124          [64, 256, 14, 14]         589,824\n",
            "     BatchNorm2d-125          [64, 256, 14, 14]             512\n",
            "            ReLU-126          [64, 256, 14, 14]               0\n",
            "          Conv2d-127         [64, 1024, 14, 14]         262,144\n",
            "     BatchNorm2d-128         [64, 1024, 14, 14]           2,048\n",
            "            ReLU-129         [64, 1024, 14, 14]               0\n",
            "      Bottleneck-130         [64, 1024, 14, 14]               0\n",
            "          Conv2d-131          [64, 256, 14, 14]         262,144\n",
            "     BatchNorm2d-132          [64, 256, 14, 14]             512\n",
            "            ReLU-133          [64, 256, 14, 14]               0\n",
            "          Conv2d-134          [64, 256, 14, 14]         589,824\n",
            "     BatchNorm2d-135          [64, 256, 14, 14]             512\n",
            "            ReLU-136          [64, 256, 14, 14]               0\n",
            "          Conv2d-137         [64, 1024, 14, 14]         262,144\n",
            "     BatchNorm2d-138         [64, 1024, 14, 14]           2,048\n",
            "            ReLU-139         [64, 1024, 14, 14]               0\n",
            "      Bottleneck-140         [64, 1024, 14, 14]               0\n",
            "          Conv2d-141          [64, 512, 14, 14]         524,288\n",
            "     BatchNorm2d-142          [64, 512, 14, 14]           1,024\n",
            "            ReLU-143          [64, 512, 14, 14]               0\n",
            "          Conv2d-144            [64, 512, 7, 7]       2,359,296\n",
            "     BatchNorm2d-145            [64, 512, 7, 7]           1,024\n",
            "            ReLU-146            [64, 512, 7, 7]               0\n",
            "          Conv2d-147           [64, 2048, 7, 7]       1,048,576\n",
            "     BatchNorm2d-148           [64, 2048, 7, 7]           4,096\n",
            "          Conv2d-149           [64, 2048, 7, 7]       2,097,152\n",
            "     BatchNorm2d-150           [64, 2048, 7, 7]           4,096\n",
            "            ReLU-151           [64, 2048, 7, 7]               0\n",
            "      Bottleneck-152           [64, 2048, 7, 7]               0\n",
            "          Conv2d-153            [64, 512, 7, 7]       1,048,576\n",
            "     BatchNorm2d-154            [64, 512, 7, 7]           1,024\n",
            "            ReLU-155            [64, 512, 7, 7]               0\n",
            "          Conv2d-156            [64, 512, 7, 7]       2,359,296\n",
            "     BatchNorm2d-157            [64, 512, 7, 7]           1,024\n",
            "            ReLU-158            [64, 512, 7, 7]               0\n",
            "          Conv2d-159           [64, 2048, 7, 7]       1,048,576\n",
            "     BatchNorm2d-160           [64, 2048, 7, 7]           4,096\n",
            "            ReLU-161           [64, 2048, 7, 7]               0\n",
            "      Bottleneck-162           [64, 2048, 7, 7]               0\n",
            "          Conv2d-163            [64, 512, 7, 7]       1,048,576\n",
            "     BatchNorm2d-164            [64, 512, 7, 7]           1,024\n",
            "            ReLU-165            [64, 512, 7, 7]               0\n",
            "          Conv2d-166            [64, 512, 7, 7]       2,359,296\n",
            "     BatchNorm2d-167            [64, 512, 7, 7]           1,024\n",
            "            ReLU-168            [64, 512, 7, 7]               0\n",
            "          Conv2d-169           [64, 2048, 7, 7]       1,048,576\n",
            "     BatchNorm2d-170           [64, 2048, 7, 7]           4,096\n",
            "            ReLU-171           [64, 2048, 7, 7]               0\n",
            "      Bottleneck-172           [64, 2048, 7, 7]               0\n",
            "AdaptiveAvgPool2d-173           [64, 2048, 1, 1]               0\n",
            "          Linear-174                   [64, 37]          75,813\n",
            "================================================================\n",
            "Total params: 23,583,845\n",
            "Trainable params: 75,813\n",
            "Non-trainable params: 23,508,032\n",
            "----------------------------------------------------------------\n",
            "Input size (MB): 36.75\n",
            "Forward/backward pass size (MB): 18339.27\n",
            "Params size (MB): 89.97\n",
            "Estimated Total Size (MB): 18465.98\n",
            "----------------------------------------------------------------\n"
          ],
          "name": "stdout"
        }
      ]
    },
    {
      "cell_type": "markdown",
      "metadata": {
        "id": "CZe42qO0O6WW",
        "colab_type": "text"
      },
      "source": [
        "Note the number of trainable parameters is 75,813. And the non-trainable parameters are 23M. This is because we freezed the weight of any other layer besides the last fully connected."
      ]
    },
    {
      "cell_type": "markdown",
      "metadata": {
        "id": "gtzAg20B_L79",
        "colab_type": "text"
      },
      "source": [
        "# 4. transfer learning in Pytorch "
      ]
    },
    {
      "cell_type": "code",
      "metadata": {
        "id": "s-sKDoXRr9ku",
        "colab_type": "code",
        "colab": {
          "base_uri": "https://localhost:8080/",
          "height": 33
        },
        "outputId": "c295ee9b-b9f7-4fec-a54c-953f764ac410"
      },
      "source": [
        "resnet50 = resnet50.to(device)\n",
        "print(device) \n",
        "# for trouble-shooting, change device to 'cpu' since it's easier to debug."
      ],
      "execution_count": 24,
      "outputs": [
        {
          "output_type": "stream",
          "text": [
            "cuda\n"
          ],
          "name": "stdout"
        }
      ]
    },
    {
      "cell_type": "code",
      "metadata": {
        "id": "n-eCsbn6xdL1",
        "colab_type": "code",
        "colab": {}
      },
      "source": [
        "def count_accuracy(pred,target):\n",
        "  \"\"\"return the accuracy score of a batch\"\"\"\n",
        "  temp = target.detach().cpu().numpy()\n",
        "  return np.sum(np.where(np.argmax(F.softmax(pred,dim=1).detach().cpu().numpy(),axis=1)\n",
        "             == temp,1,0))/len(temp)"
      ],
      "execution_count": 0,
      "outputs": []
    },
    {
      "cell_type": "code",
      "metadata": {
        "id": "IwOXAW1ID7Bl",
        "colab_type": "code",
        "colab": {}
      },
      "source": [
        "epoch_train_loss = []\n",
        "iter_train_loss = []\n",
        "epoch_train_accuracy = []\n",
        "\n",
        "epoch_val_loss = []\n",
        "epoch_val_accuracy = []"
      ],
      "execution_count": 0,
      "outputs": []
    },
    {
      "cell_type": "code",
      "metadata": {
        "id": "Z7k8em2m_QyA",
        "colab_type": "code",
        "colab": {}
      },
      "source": [
        "learning_rate = 0.0001\n",
        "epochs = 20\n",
        "decay = 0.00001\n",
        "criterion = nn.CrossEntropyLoss()\n",
        "optimizer = optim.Adam(resnet50.parameters(), lr=learning_rate,weight_decay=decay)"
      ],
      "execution_count": 0,
      "outputs": []
    },
    {
      "cell_type": "code",
      "metadata": {
        "id": "N09Mc96wrp-S",
        "colab_type": "code",
        "colab": {
          "base_uri": "https://localhost:8080/",
          "height": 184
        },
        "outputId": "ac2d269b-56cd-4830-b03f-b3a09d486b52"
      },
      "source": [
        "for epoch in range(epochs):\n",
        "  resnet50.train()\n",
        "  temp_loss = []\n",
        "  temp_accu = []\n",
        "  for x, y in train_loader:\n",
        "    optimizer.zero_grad()\n",
        "    x, y = x.to(device), y.to(device,dtype=torch.long)\n",
        "    output = resnet50(x)\n",
        "    loss = criterion(output,y)\n",
        "    temp_loss.append(loss.item())\n",
        "    iter_train_loss.append(loss.item())\n",
        "    temp_accu.append(count_accuracy(output,y))\n",
        "    loss.backward()\n",
        "    optimizer.step()\n",
        "  epoch_train_loss.append(np.mean(temp_loss))\n",
        "  epoch_train_accuracy.append(np.mean(temp_accu))\n",
        "\n",
        "  resnet50.eval()\n",
        "  temp_loss = []\n",
        "  temp_accu = []\n",
        "  for x, y in val_loader:\n",
        "    x, y = x.to(device), y.to(device,dtype=torch.long)\n",
        "    output = resnet50(x)\n",
        "    loss = criterion(output,y)\n",
        "    temp_loss.append(loss.item())\n",
        "    temp_accu.append(count_accuracy(output,y))\n",
        "  epoch_val_loss.append(np.mean(temp_loss))\n",
        "  epoch_val_accuracy.append(np.mean(temp_accu))\n",
        "\n",
        "  if epoch % 2 ==0:\n",
        "    print('epoch = {}'.format(len(epoch_train_loss)),\n",
        "          'train accuracy = {:.3f}'.format(epoch_train_accuracy[-1]),\n",
        "          'validation accuracy = {:.3f}'.format(epoch_val_accuracy[-1]))"
      ],
      "execution_count": 28,
      "outputs": [
        {
          "output_type": "stream",
          "text": [
            "epoch = 1 train accuracy = 0.344 validation accuracy = 0.598\n",
            "epoch = 3 train accuracy = 0.837 validation accuracy = 0.849\n",
            "epoch = 5 train accuracy = 0.900 validation accuracy = 0.878\n",
            "epoch = 7 train accuracy = 0.911 validation accuracy = 0.904\n",
            "epoch = 9 train accuracy = 0.922 validation accuracy = 0.914\n",
            "epoch = 11 train accuracy = 0.932 validation accuracy = 0.906\n",
            "epoch = 13 train accuracy = 0.939 validation accuracy = 0.910\n",
            "epoch = 15 train accuracy = 0.938 validation accuracy = 0.914\n",
            "epoch = 17 train accuracy = 0.940 validation accuracy = 0.908\n",
            "epoch = 19 train accuracy = 0.946 validation accuracy = 0.913\n"
          ],
          "name": "stdout"
        }
      ]
    },
    {
      "cell_type": "markdown",
      "metadata": {
        "id": "dgZe_WxuJ-n_",
        "colab_type": "text"
      },
      "source": [
        "I'm going to save the weight parameters of the model, so we don't have to re-train the next time we run this notebook again. We will simply instantiate the resnet model, swap in the final layer, and plug in the trained weights."
      ]
    },
    {
      "cell_type": "code",
      "metadata": {
        "id": "Mp_gOf7DJ9f1",
        "colab_type": "code",
        "colab": {}
      },
      "source": [
        "torch.save(resnet50.state_dict(), 'torch_weight_finetuned_resnet50_Oxford_pet_Apr09.pt')"
      ],
      "execution_count": 0,
      "outputs": []
    },
    {
      "cell_type": "markdown",
      "metadata": {
        "id": "kpIyUbSs_RIa",
        "colab_type": "text"
      },
      "source": [
        "# 5. visualization"
      ]
    },
    {
      "cell_type": "code",
      "metadata": {
        "id": "jCoqCQ-BsPDC",
        "colab_type": "code",
        "colab": {
          "base_uri": "https://localhost:8080/",
          "height": 421
        },
        "outputId": "4a9dde6b-65c7-4eeb-f222-247350f251ce"
      },
      "source": [
        "fig, ax = plt.subplots(1,3,figsize=(12,6))\n",
        "ax[0].plot(iter_train_loss)\n",
        "ax[1].plot(epoch_train_loss, label = 'train loss')\n",
        "ax[1].plot(epoch_val_loss, label = 'val loss')\n",
        "ax[2].plot(epoch_train_accuracy, label = 'train accuracy')\n",
        "ax[2].plot(epoch_val_accuracy, label = 'val accuracy')\n",
        "ax[0].set_title('batch training loss')\n",
        "ax[1].set_title('loss')\n",
        "ax[2].set_title('accuracy')\n",
        "ax[0].set_xlabel('batch iteration')\n",
        "ax[0].set_ylabel('loss')\n",
        "ax[1].set_xlabel('epoch')\n",
        "ax[1].set_ylabel('loss')\n",
        "ax[2].set_xlabel('epoch')\n",
        "ax[2].set_ylabel('accuracy')\n",
        "ax[1].legend()\n",
        "ax[2].legend()"
      ],
      "execution_count": 30,
      "outputs": [
        {
          "output_type": "execute_result",
          "data": {
            "text/plain": [
              "<matplotlib.legend.Legend at 0x7f9e01d48a90>"
            ]
          },
          "metadata": {
            "tags": []
          },
          "execution_count": 30
        },
        {
          "output_type": "display_data",
          "data": {
            "image/png": "[encoded data removed]",
            "text/plain": [
              "<Figure size 864x432 with 3 Axes>"
            ]
          },
          "metadata": {
            "tags": []
          }
        }
      ]
    },
    {
      "cell_type": "markdown",
      "metadata": {
        "id": "cBxgGiOUpTgm",
        "colab_type": "text"
      },
      "source": [
        "Here we will retrieve the predicted labels to plot the confusion matrix. Just to show how "
      ]
    },
    {
      "cell_type": "code",
      "metadata": {
        "id": "vcZQms8_JW80",
        "colab_type": "code",
        "colab": {}
      },
      "source": [
        "pred_list = []\n",
        "target_list = []\n",
        "\n",
        "resnet50.eval()\n",
        "for x, y in val_loader:\n",
        "  x, y = x.to(device), y.to(device,dtype=torch.long)\n",
        "  output = resnet50(x)\n",
        "  pred_list.append(np.argmax(F.softmax(output,dim=1).detach().cpu().numpy(),axis=1))\n",
        "  target_list.append(y.detach().cpu().numpy())"
      ],
      "execution_count": 0,
      "outputs": []
    },
    {
      "cell_type": "code",
      "metadata": {
        "id": "DvrMiyf__R8Q",
        "colab_type": "code",
        "colab": {}
      },
      "source": [
        "pred_list = np.array(pred_list)\n",
        "pred_list = pred_list.reshape(-1,1)"
      ],
      "execution_count": 0,
      "outputs": []
    },
    {
      "cell_type": "code",
      "metadata": {
        "id": "6wRBwlZVMUVv",
        "colab_type": "code",
        "colab": {}
      },
      "source": [
        "target_list = np.array(target_list)\n",
        "target_list = target_list.reshape(-1,1)"
      ],
      "execution_count": 0,
      "outputs": []
    },
    {
      "cell_type": "code",
      "metadata": {
        "id": "AfhT1Az1Mbtl",
        "colab_type": "code",
        "colab": {}
      },
      "source": [
        "from sklearn.metrics import confusion_matrix"
      ],
      "execution_count": 0,
      "outputs": []
    },
    {
      "cell_type": "code",
      "metadata": {
        "id": "FH-6SNWvMiB7",
        "colab_type": "code",
        "colab": {}
      },
      "source": [
        "confuse_array = confusion_matrix(target_list, pred_list,normalize='true')"
      ],
      "execution_count": 0,
      "outputs": []
    },
    {
      "cell_type": "code",
      "metadata": {
        "id": "1MLmWmeGMpB_",
        "colab_type": "code",
        "colab": {
          "base_uri": "https://localhost:8080/",
          "height": 297
        },
        "outputId": "8472680d-f84d-4c6f-b399-e995fd37cca3"
      },
      "source": [
        "sns.heatmap(confuse_array,cmap=\"YlGnBu\")\n",
        "plt.title('confusion matrix of the fine-tuned resnet for transfer learning')"
      ],
      "execution_count": 36,
      "outputs": [
        {
          "output_type": "execute_result",
          "data": {
            "text/plain": [
              "Text(0.5, 1.0, 'confusion matrix of the fine-tuned resnet for transfer learning')"
            ]
          },
          "metadata": {
            "tags": []
          },
          "execution_count": 36
        },
        {
          "output_type": "display_data",
          "data": {
            "image/png": "[encoded data removed]",
            "text/plain": [
              "<Figure size 432x288 with 2 Axes>"
            ]
          },
          "metadata": {
            "tags": []
          }
        }
      ]
    },
    {
      "cell_type": "markdown",
      "metadata": {
        "id": "3tOQAPbQJjmH",
        "colab_type": "text"
      },
      "source": [
        "So this is just a first try, and as you can see we already have validated accuracy about 0.9. And this might get even better if we play around with parameter search, and train longer. And in the end if we are going to check the test accuracy further, we can use the combine the validation set for the training. Since we are limited in the data, adding the validation back might can help with the training. Also, if we really need to, we can also make a synthetic data, such as cropping or rotating, from the data we already have. \n",
        "\n",
        "\n",
        "But the bottom line here is that just this first attempt is already pretty good. "
      ]
    },
    {
      "cell_type": "markdown",
      "metadata": {
        "id": "S9P9iTnYCo9_",
        "colab_type": "text"
      },
      "source": [
        "# Citation\n",
        "\n",
        "1. [the Oxford dataset](http://www.robots.ox.ac.uk/~vgg/data/pets/) \n",
        "\n",
        "dataset containing images of cats and dogs of 37 breeds. Each breed has about 200 images. The images have a large variations in scale, pose and lighting.\n",
        "\n",
        "2. [resnet 50](https://arxiv.org/abs/1512.03385)\n",
        "\n",
        "The original publication of resnet, containing a strategy for training a very deep convolutional neural net."
      ]
    }
  ]
}